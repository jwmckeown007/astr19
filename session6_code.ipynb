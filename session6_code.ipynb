{
 "cells": [
  {
   "cell_type": "markdown",
   "id": "29b60094-a945-4f5d-8fa5-0a926434b3af",
   "metadata": {},
   "source": [
    "# Creating a table for sine and cosine\n",
    "**Using numpy and tabulate**"
   ]
  },
  {
   "cell_type": "code",
   "execution_count": 1,
   "id": "a8a9b08d-1882-4db3-bb50-7c103f142da1",
   "metadata": {},
   "outputs": [],
   "source": [
    "import numpy as np\n",
    "from tabulate import tabulate"
   ]
  },
  {
   "cell_type": "code",
   "execution_count": 2,
   "id": "946b94f7-77ab-4ba7-a57f-f5fd3f997489",
   "metadata": {},
   "outputs": [],
   "source": [
    "def sin(x):\n",
    "    return np.sin(x)"
   ]
  },
  {
   "cell_type": "markdown",
   "id": "9ceeb8d2-e01d-47df-b380-6c2dce9ff20e",
   "metadata": {},
   "source": [
    "**Sine function**\n",
    "Returns the sine of the input using Numpy"
   ]
  },
  {
   "cell_type": "code",
   "execution_count": 3,
   "id": "f55378b6-cc25-46b4-b458-0f96e752c34a",
   "metadata": {},
   "outputs": [],
   "source": [
    "def cos(x):\n",
    "    return np.cos(x)"
   ]
  },
  {
   "cell_type": "markdown",
   "id": "37a8f4a7-85f2-48b9-988a-eca7319fe943",
   "metadata": {},
   "source": [
    "**Cosine function**\n",
    "Returns the cosine of the input using Numpy"
   ]
  },
  {
   "cell_type": "code",
   "execution_count": 4,
   "id": "837565bd-b110-425b-9e5b-15e2383fb529",
   "metadata": {},
   "outputs": [],
   "source": [
    "x_values = np.linspace(0, 2 * np.pi, 1000)\n",
    "sin_values = sin(x_values)\n",
    "cos_values = cos(x_values)"
   ]
  },
  {
   "cell_type": "markdown",
   "id": "6d2cefbf-ef32-4bca-b482-be42353c28ba",
   "metadata": {},
   "source": [
    "**Generate 1000 values of x between 0 and 2pi**\n",
    "np.linspace() creates an array and sin_values/cos_values computes sine and cosine values"
   ]
  },
  {
   "cell_type": "code",
   "execution_count": 6,
   "id": "e8114795-bb0f-40ed-9329-96aa9b560214",
   "metadata": {},
   "outputs": [
    {
     "name": "stdout",
     "output_type": "stream",
     "text": [
      "╒══════════╤══════════╤══════════╕\n",
      "│        x │   sin(x) │   cos(x) │\n",
      "╞══════════╪══════════╪══════════╡\n",
      "│ 0        │ 0        │ 1        │\n",
      "├──────────┼──────────┼──────────┤\n",
      "│ 0.006289 │ 0.006289 │ 0.99998  │\n",
      "├──────────┼──────────┼──────────┤\n",
      "│ 0.012579 │ 0.012579 │ 0.999921 │\n",
      "├──────────┼──────────┼──────────┤\n",
      "│ 0.018868 │ 0.018867 │ 0.999822 │\n",
      "├──────────┼──────────┼──────────┤\n",
      "│ 0.025158 │ 0.025155 │ 0.999684 │\n",
      "├──────────┼──────────┼──────────┤\n",
      "│ 0.031447 │ 0.031442 │ 0.999506 │\n",
      "├──────────┼──────────┼──────────┤\n",
      "│ 0.037737 │ 0.037728 │ 0.999288 │\n",
      "├──────────┼──────────┼──────────┤\n",
      "│ 0.044026 │ 0.044012 │ 0.999031 │\n",
      "├──────────┼──────────┼──────────┤\n",
      "│ 0.050316 │ 0.050295 │ 0.998734 │\n",
      "├──────────┼──────────┼──────────┤\n",
      "│ 0.056605 │ 0.056575 │ 0.998398 │\n",
      "╘══════════╧══════════╧══════════╛\n"
     ]
    }
   ],
   "source": [
    "table = []\n",
    "for i in range(10):\n",
    "    table.append([f\"{x_values[i]:.6f}\", f\"{sin_values[i]:.6f}\", f\"{cos_values[i]:.6f}\"])\n",
    "\n",
    "headers = [\"x\", \"sin(x)\", \"cos(x)\"]\n",
    "print(tabulate(table, headers=headers, tablefmt=\"fancy_grid\"))"
   ]
  },
  {
   "cell_type": "markdown",
   "id": "dd5d1f98-c099-443c-a593-1e407c4a7575",
   "metadata": {},
   "source": [
    "Create a table with x, sin(x), and cos(x) values for the first 10 values of x up to 6 decimal places"
   ]
  }
 ],
 "metadata": {
  "kernelspec": {
   "display_name": "Python 3 (ipykernel)",
   "language": "python",
   "name": "python3"
  },
  "language_info": {
   "codemirror_mode": {
    "name": "ipython",
    "version": 3
   },
   "file_extension": ".py",
   "mimetype": "text/x-python",
   "name": "python",
   "nbconvert_exporter": "python",
   "pygments_lexer": "ipython3",
   "version": "3.12.6"
  }
 },
 "nbformat": 4,
 "nbformat_minor": 5
}
